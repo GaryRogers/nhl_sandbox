{
 "nbformat": 4,
 "nbformat_minor": 2,
 "metadata": {
  "language_info": {
   "name": "python",
   "codemirror_mode": {
    "name": "ipython",
    "version": 3
   },
   "version": "3.7.4-final"
  },
  "orig_nbformat": 2,
  "file_extension": ".py",
  "mimetype": "text/x-python",
  "name": "python",
  "npconvert_exporter": "python",
  "pygments_lexer": "ipython3",
  "version": 3,
  "kernelspec": {
   "name": "python37464bit3f6e3e258669473faebf4db8d4db9002",
   "display_name": "Python 3.7.4 64-bit"
  }
 },
 "cells": [
  {
   "cell_type": "markdown",
   "execution_count": null,
   "metadata": {},
   "outputs": [],
   "source": [
    "# Face Off Analysis\n",
    "\n",
    "Root question is: \"Who does Patrice Bergeron lost faceoffs to most\"\n",
    "\n",
    "From there I'm sure I'll want to explore\n",
    "- What zone are most face off losses?\n",
    "- How often is Bergy waved off the dot?\n",
    "- What are his percentages in each zone?\n",
    "- How does period and +/- impact faceoff percentage?\n",
    "\n",
    "But first is something to parse a game file."
   ]
  },
  {
   "cell_type": "code",
   "execution_count": 24,
   "metadata": {},
   "outputs": [],
   "source": [
    "# Set up the environment and pull in the game data\n",
    "import pandas as pd\n",
    "import json\n",
    "\n",
    "# Pulled from https://statsapi.web.nhl.com/api/v1/game/{1}/feed/live\n",
    "filename = 'api_data/game_2019020010.json'\n",
    "\n",
    "with open(filename) as json_file:\n",
    "    game_data = json.load(json_file)"
   ]
  },
  {
   "cell_type": "markdown",
   "metadata": {},
   "source": [
    "## Get Faceoff data\n",
    "\n",
    "Get the faceoff data from the liveData file and massage it into something more helpful. Basically flatten the Faceoff data.\n",
    "\n",
    "- [ ] [TODO] Push the PlayID into the index for this DataFrame"
   ]
  },
  {
   "cell_type": "code",
   "execution_count": 25,
   "metadata": {},
   "outputs": [
    {
     "data": {
      "text/html": "<div>\n<style scoped>\n    .dataframe tbody tr th:only-of-type {\n        vertical-align: middle;\n    }\n\n    .dataframe tbody tr th {\n        vertical-align: top;\n    }\n\n    .dataframe thead th {\n        text-align: right;\n    }\n</style>\n<table border=\"1\" class=\"dataframe\">\n  <thead>\n    <tr style=\"text-align: right;\">\n      <th></th>\n      <th>winner</th>\n      <th>loser</th>\n    </tr>\n  </thead>\n  <tbody>\n    <tr>\n      <td>0</td>\n      <td>Patrice Bergeron</td>\n      <td>Tyler Seguin</td>\n    </tr>\n    <tr>\n      <td>1</td>\n      <td>Mattias Janmark</td>\n      <td>Sean Kuraly</td>\n    </tr>\n    <tr>\n      <td>2</td>\n      <td>Roope Hintz</td>\n      <td>Par Lindholm</td>\n    </tr>\n    <tr>\n      <td>3</td>\n      <td>Par Lindholm</td>\n      <td>Roope Hintz</td>\n    </tr>\n    <tr>\n      <td>4</td>\n      <td>Blake Comeau</td>\n      <td>Patrice Bergeron</td>\n    </tr>\n  </tbody>\n</table>\n</div>",
      "text/plain": "             winner             loser\n0  Patrice Bergeron      Tyler Seguin\n1   Mattias Janmark       Sean Kuraly\n2       Roope Hintz      Par Lindholm\n3      Par Lindholm       Roope Hintz\n4      Blake Comeau  Patrice Bergeron"
     },
     "execution_count": 25,
     "metadata": {},
     "output_type": "execute_result"
    }
   ],
   "source": [
    "plays = json_normalize(game_data['liveData']['plays']['allPlays'])\n",
    "\n",
    "players_list = plays.loc[lambda r: r['result.event'] == 'Faceoff']['players']\n",
    "\n",
    "faceoff_list = []\n",
    "\n",
    "for i, p in players_list.items():\n",
    "    play_object = { 'winner': None, 'loser': None }\n",
    "    for pi in p:\n",
    "        if pi['playerType'] == 'Winner':\n",
    "            play_object['winner'] = pi['player']['fullName']\n",
    "        else:\n",
    "            play_object['loser'] = pi['player']['fullName']\n",
    "        \n",
    "    faceoff_list.append(play_object)\n",
    "\n",
    "faceoff_df = pd.DataFrame.from_dict(faceoff_list)\n",
    "\n",
    "faceoff_df.head(5)"
   ]
  },
  {
   "cell_type": "markdown",
   "metadata": {},
   "source": [
    "## Faceoff data for a `selected_player`\n",
    "\n",
    "Get the Faceoff plays from the game data, and filter them down by a `selected_player`\n",
    "\n",
    "- [ ] [TODO] Figure out iPython controls and make this a data-drive control (all players who took face-offs in the game)"
   ]
  },
  {
   "cell_type": "code",
   "execution_count": 26,
   "metadata": {},
   "outputs": [
    {
     "data": {
      "text/html": "<div>\n<style scoped>\n    .dataframe tbody tr th:only-of-type {\n        vertical-align: middle;\n    }\n\n    .dataframe tbody tr th {\n        vertical-align: top;\n    }\n\n    .dataframe thead th {\n        text-align: right;\n    }\n</style>\n<table border=\"1\" class=\"dataframe\">\n  <thead>\n    <tr style=\"text-align: right;\">\n      <th></th>\n      <th>winner</th>\n      <th>loser</th>\n    </tr>\n  </thead>\n  <tbody>\n    <tr>\n      <td>0</td>\n      <td>Patrice Bergeron</td>\n      <td>Tyler Seguin</td>\n    </tr>\n    <tr>\n      <td>4</td>\n      <td>Blake Comeau</td>\n      <td>Patrice Bergeron</td>\n    </tr>\n    <tr>\n      <td>6</td>\n      <td>Patrice Bergeron</td>\n      <td>Radek Faksa</td>\n    </tr>\n    <tr>\n      <td>9</td>\n      <td>Radek Faksa</td>\n      <td>Patrice Bergeron</td>\n    </tr>\n    <tr>\n      <td>12</td>\n      <td>Jamie Benn</td>\n      <td>Patrice Bergeron</td>\n    </tr>\n  </tbody>\n</table>\n</div>",
      "text/plain": "              winner             loser\n0   Patrice Bergeron      Tyler Seguin\n4       Blake Comeau  Patrice Bergeron\n6   Patrice Bergeron       Radek Faksa\n9        Radek Faksa  Patrice Bergeron\n12        Jamie Benn  Patrice Bergeron"
     },
     "execution_count": 26,
     "metadata": {},
     "output_type": "execute_result"
    }
   ],
   "source": [
    "select_player = 'Patrice Bergeron'\n",
    "\n",
    "player_faceoffs = faceoff_df.loc[lambda p: (p['winner'] == select_player) | (p['loser'] == select_player)]\n",
    "\n",
    "player_faceoffs.head(5)"
   ]
  },
  {
   "cell_type": "markdown",
   "metadata": {},
   "source": [
    "## Faceoff Wins Count\n",
    "\n",
    "Group by the winners and count the wins"
   ]
  },
  {
   "cell_type": "code",
   "execution_count": 27,
   "metadata": {},
   "outputs": [
    {
     "data": {
      "text/html": "<div>\n<style scoped>\n    .dataframe tbody tr th:only-of-type {\n        vertical-align: middle;\n    }\n\n    .dataframe tbody tr th {\n        vertical-align: top;\n    }\n\n    .dataframe thead th {\n        text-align: right;\n    }\n</style>\n<table border=\"1\" class=\"dataframe\">\n  <thead>\n    <tr style=\"text-align: right;\">\n      <th></th>\n      <th>winner</th>\n    </tr>\n    <tr>\n      <th>winner</th>\n      <th></th>\n    </tr>\n  </thead>\n  <tbody>\n    <tr>\n      <td>Andrew Cogliano</td>\n      <td>1</td>\n    </tr>\n    <tr>\n      <td>Blake Comeau</td>\n      <td>1</td>\n    </tr>\n    <tr>\n      <td>Jamie Benn</td>\n      <td>3</td>\n    </tr>\n    <tr>\n      <td>Patrice Bergeron</td>\n      <td>8</td>\n    </tr>\n    <tr>\n      <td>Radek Faksa</td>\n      <td>3</td>\n    </tr>\n    <tr>\n      <td>Roope Hintz</td>\n      <td>1</td>\n    </tr>\n    <tr>\n      <td>Tyler Seguin</td>\n      <td>3</td>\n    </tr>\n  </tbody>\n</table>\n</div>",
      "text/plain": "                  winner\nwinner                  \nAndrew Cogliano        1\nBlake Comeau           1\nJamie Benn             3\nPatrice Bergeron       8\nRadek Faksa            3\nRoope Hintz            1\nTyler Seguin           3"
     },
     "execution_count": 27,
     "metadata": {},
     "output_type": "execute_result"
    }
   ],
   "source": [
    "player_faceoffs.groupby(['winner']).agg({'winner': 'count'})"
   ]
  },
  {
   "cell_type": "code",
   "execution_count": null,
   "metadata": {},
   "outputs": [],
   "source": []
  }
 ]
}