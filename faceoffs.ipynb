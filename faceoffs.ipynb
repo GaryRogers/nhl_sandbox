{
 "nbformat": 4,
 "nbformat_minor": 2,
 "metadata": {
  "language_info": {
   "name": "python",
   "codemirror_mode": {
    "name": "ipython",
    "version": 3
   },
   "version": "3.7.4-final"
  },
  "orig_nbformat": 2,
  "file_extension": ".py",
  "mimetype": "text/x-python",
  "name": "python",
  "npconvert_exporter": "python",
  "pygments_lexer": "ipython3",
  "version": 3,
  "kernelspec": {
   "name": "python37464bit3f6e3e258669473faebf4db8d4db9002",
   "display_name": "Python 3.7.4 64-bit"
  }
 },
 "cells": [
  {
   "cell_type": "markdown",
   "execution_count": null,
   "metadata": {},
   "outputs": [],
   "source": [
    "# Face Off Analysis\n",
    "\n",
    "Root question is: \"Who does Patrice Bergeron lost faceoffs to most\"\n",
    "\n",
    "From there I'm sure I'll want to explore\n",
    "- What zone are most face off losses?\n",
    "- How often is Bergy waved off the dot?\n",
    "- What are his percentages in each zone?\n",
    "- How does period and +/- impact faceoff percentage?\n",
    "\n",
    "But first is something to parse a game file."
   ]
  },
  {
   "cell_type": "code",
   "execution_count": 91,
   "metadata": {},
   "outputs": [],
   "source": [
    "\n",
    "\n",
    "# Set up the environment and pull in the game data\n",
    "import pandas as pd\n",
    "from pandas.io.json import json_normalize\n",
    "import json\n",
    "\n",
    "# Pulled from https://statsapi.web.nhl.com/api/v1/game/{1}/feed/live\n",
    "filename = 'api_data/game_2019020010.json'\n",
    "\n",
    "with open(filename) as json_file:\n",
    "    game_data = json.load(json_file)"
   ]
  },
  {
   "cell_type": "markdown",
   "metadata": {},
   "source": [
    "## Get Faceoff data\n",
    "\n",
    "Get the faceoff data from the liveData file and massage it into something more helpful. Basically flatten the Faceoff data.\n",
    "\n",
    "- [ ] Push the PlayID into the index for this DataFrame\n",
    "- [ ] Add GameID to the data so that we can export this data to a tracking dataset\n",
    "  - We'll build up a dataset of total faceoffs, wins, and who `select_player` lost to\n",
    "- [ ] Add Period to the data so that we can analyze win/loss by Period\n",
    "- [ ] Add Zone to the data so that we can analyze win/loss on Zone\n",
    "- [ ] Add losing/winning/event to the data so that we can analyze win/loss on that dimension as well"
   ]
  },
  {
   "cell_type": "code",
   "execution_count": 54,
   "metadata": {},
   "outputs": [
    {
     "data": {
      "text/html": "<div>\n<style scoped>\n    .dataframe tbody tr th:only-of-type {\n        vertical-align: middle;\n    }\n\n    .dataframe tbody tr th {\n        vertical-align: top;\n    }\n\n    .dataframe thead th {\n        text-align: right;\n    }\n</style>\n<table border=\"1\" class=\"dataframe\">\n  <thead>\n    <tr style=\"text-align: right;\">\n      <th></th>\n      <th>winner</th>\n      <th>loser</th>\n      <th>gameId</th>\n      <th>period</th>\n    </tr>\n  </thead>\n  <tbody>\n    <tr>\n      <td>0</td>\n      <td>Patrice Bergeron</td>\n      <td>Tyler Seguin</td>\n      <td>2019020010</td>\n      <td>1</td>\n    </tr>\n    <tr>\n      <td>1</td>\n      <td>Mattias Janmark</td>\n      <td>Sean Kuraly</td>\n      <td>2019020010</td>\n      <td>1</td>\n    </tr>\n    <tr>\n      <td>2</td>\n      <td>Roope Hintz</td>\n      <td>Par Lindholm</td>\n      <td>2019020010</td>\n      <td>1</td>\n    </tr>\n    <tr>\n      <td>3</td>\n      <td>Par Lindholm</td>\n      <td>Roope Hintz</td>\n      <td>2019020010</td>\n      <td>1</td>\n    </tr>\n    <tr>\n      <td>4</td>\n      <td>Blake Comeau</td>\n      <td>Patrice Bergeron</td>\n      <td>2019020010</td>\n      <td>1</td>\n    </tr>\n  </tbody>\n</table>\n</div>",
      "text/plain": "             winner             loser      gameId  period\n0  Patrice Bergeron      Tyler Seguin  2019020010       1\n1   Mattias Janmark       Sean Kuraly  2019020010       1\n2       Roope Hintz      Par Lindholm  2019020010       1\n3      Par Lindholm       Roope Hintz  2019020010       1\n4      Blake Comeau  Patrice Bergeron  2019020010       1"
     },
     "execution_count": 54,
     "metadata": {},
     "output_type": "execute_result"
    }
   ],
   "source": [
    "\n",
    "\n",
    "gameId = game_data['gamePk']\n",
    "\n",
    "plays = json_normalize(game_data['liveData']['plays']['allPlays'])\n",
    "\n",
    "plays_list = plays.loc[lambda r: r['result.event'] == 'Faceoff']\n",
    "\n",
    "faceoff_list = []\n",
    "\n",
    "for i, p in plays_list.iterrows():\n",
    "    play_object = { \n",
    "        'winner': None, \n",
    "        'loser': None, \n",
    "        'gameId': gameId, \n",
    "        'period': p['about.period']\n",
    "    }\n",
    "    \n",
    "    players_list = p['players']\n",
    "    \n",
    "    for player in players_list:\n",
    "        if player['playerType'] == 'Winner':\n",
    "            play_object['winner'] = player['player']['fullName']\n",
    "        else:\n",
    "            play_object['loser'] = player['player']['fullName']\n",
    "        \n",
    "    faceoff_list.append(play_object)\n",
    "\n",
    "faceoff_df = pd.DataFrame.from_dict(faceoff_list)\n",
    "\n",
    "faceoff_df.head(5)"
   ]
  },
  {
   "cell_type": "markdown",
   "metadata": {},
   "source": [
    "## Faceoff data for a `selected_player`\n",
    "\n",
    "Get the Faceoff plays from the game data, and filter them down by a `selected_player`\n",
    "\n",
    "- [ ] [TODO] Figure out iPython controls and make this a data-drive control (all players who took face-offs in the game)"
   ]
  },
  {
   "cell_type": "code",
   "execution_count": 55,
   "metadata": {},
   "outputs": [
    {
     "data": {
      "text/html": "<div>\n<style scoped>\n    .dataframe tbody tr th:only-of-type {\n        vertical-align: middle;\n    }\n\n    .dataframe tbody tr th {\n        vertical-align: top;\n    }\n\n    .dataframe thead th {\n        text-align: right;\n    }\n</style>\n<table border=\"1\" class=\"dataframe\">\n  <thead>\n    <tr style=\"text-align: right;\">\n      <th></th>\n      <th>winner</th>\n      <th>loser</th>\n      <th>gameId</th>\n      <th>period</th>\n    </tr>\n  </thead>\n  <tbody>\n    <tr>\n      <td>0</td>\n      <td>Patrice Bergeron</td>\n      <td>Tyler Seguin</td>\n      <td>2019020010</td>\n      <td>1</td>\n    </tr>\n    <tr>\n      <td>4</td>\n      <td>Blake Comeau</td>\n      <td>Patrice Bergeron</td>\n      <td>2019020010</td>\n      <td>1</td>\n    </tr>\n    <tr>\n      <td>6</td>\n      <td>Patrice Bergeron</td>\n      <td>Radek Faksa</td>\n      <td>2019020010</td>\n      <td>1</td>\n    </tr>\n    <tr>\n      <td>9</td>\n      <td>Radek Faksa</td>\n      <td>Patrice Bergeron</td>\n      <td>2019020010</td>\n      <td>1</td>\n    </tr>\n    <tr>\n      <td>12</td>\n      <td>Jamie Benn</td>\n      <td>Patrice Bergeron</td>\n      <td>2019020010</td>\n      <td>1</td>\n    </tr>\n  </tbody>\n</table>\n</div>",
      "text/plain": "              winner             loser      gameId  period\n0   Patrice Bergeron      Tyler Seguin  2019020010       1\n4       Blake Comeau  Patrice Bergeron  2019020010       1\n6   Patrice Bergeron       Radek Faksa  2019020010       1\n9        Radek Faksa  Patrice Bergeron  2019020010       1\n12        Jamie Benn  Patrice Bergeron  2019020010       1"
     },
     "execution_count": 55,
     "metadata": {},
     "output_type": "execute_result"
    }
   ],
   "source": [
    "\n",
    "\n",
    "select_player = 'Patrice Bergeron'\n",
    "\n",
    "player_faceoffs = faceoff_df.loc[lambda p: (p['winner'] == select_player) | (p['loser'] == select_player)]\n",
    "\n",
    "player_faceoffs.head(5)"
   ]
  },
  {
   "cell_type": "markdown",
   "metadata": {},
   "source": [
    "## Faceoff Wins Count\n",
    "\n",
    "Group by the winners and count the wins"
   ]
  },
  {
   "cell_type": "code",
   "execution_count": 85,
   "metadata": {},
   "outputs": [
    {
     "data": {
      "text/html": "<div>\n<style scoped>\n    .dataframe tbody tr th:only-of-type {\n        vertical-align: middle;\n    }\n\n    .dataframe tbody tr th {\n        vertical-align: top;\n    }\n\n    .dataframe thead th {\n        text-align: right;\n    }\n</style>\n<table border=\"1\" class=\"dataframe\">\n  <thead>\n    <tr style=\"text-align: right;\">\n      <th></th>\n      <th>Name</th>\n      <th>faceoff_win_count</th>\n      <th>gameId</th>\n      <th>period</th>\n    </tr>\n  </thead>\n  <tbody>\n    <tr>\n      <td>0</td>\n      <td>Andrew Cogliano</td>\n      <td>1</td>\n      <td>2019020010</td>\n      <td>3</td>\n    </tr>\n    <tr>\n      <td>1</td>\n      <td>Blake Comeau</td>\n      <td>1</td>\n      <td>2019020010</td>\n      <td>1</td>\n    </tr>\n    <tr>\n      <td>2</td>\n      <td>Jamie Benn</td>\n      <td>1</td>\n      <td>2019020010</td>\n      <td>1</td>\n    </tr>\n    <tr>\n      <td>3</td>\n      <td>Jamie Benn</td>\n      <td>1</td>\n      <td>2019020010</td>\n      <td>2</td>\n    </tr>\n    <tr>\n      <td>4</td>\n      <td>Jamie Benn</td>\n      <td>1</td>\n      <td>2019020010</td>\n      <td>3</td>\n    </tr>\n  </tbody>\n</table>\n</div>",
      "text/plain": "              Name  faceoff_win_count      gameId  period\n0  Andrew Cogliano                  1  2019020010       3\n1     Blake Comeau                  1  2019020010       1\n2       Jamie Benn                  1  2019020010       1\n3       Jamie Benn                  1  2019020010       2\n4       Jamie Benn                  1  2019020010       3"
     },
     "execution_count": 85,
     "metadata": {},
     "output_type": "execute_result"
    }
   ],
   "source": [
    "\n",
    "\n",
    "faceoff_count = player_faceoffs.groupby(['winner','period','gameId']).count()\n",
    "#faceoff_count.drop(columns=['loser'], inplace=True)\n",
    "\n",
    "normalized_faceoffs = []\n",
    "\n",
    "for i, p in faceoff_count.iterrows():\n",
    "    row = { 'Name': i[0], 'faceoff_win_count': p.values[0], 'gameId': i[2], 'period': i[1] }\n",
    "    normalized_faceoffs.append(row)\n",
    "\n",
    "normalized_faceoffs_df = pd.DataFrame.from_dict(normalized_faceoffs)\n",
    "\n",
    "normalized_faceoffs_df.head(5)"
   ]
  },
  {
   "cell_type": "code",
   "execution_count": 90,
   "metadata": {},
   "outputs": [],
   "source": [
    "\n",
    "\n",
    "outfile = open(\"data/faceoff_normalized.csv\", \"a\")\n",
    "outfile.write(normalized_faceoffs_df.to_csv(index=False))\n",
    "outfile.close()"
   ]
  },
  {
   "cell_type": "markdown",
   "metadata": {},
   "source": [
    "## Faceoff Wins Percent\n",
    "\n",
    "Calculate the Percent of total faceoffs each winner won."
   ]
  },
  {
   "cell_type": "code",
   "execution_count": 48,
   "metadata": {},
   "outputs": [],
   "source": [
    "#faceoff_sum = faceoff_count.winner.sum()\n",
    "#faceoff_perc = faceoff_count.winner.apply(lambda f: (f / faceoff_sum) * 100)\n",
    "#faceoff_perc"
   ]
  },
  {
   "cell_type": "code",
   "execution_count": null,
   "metadata": {},
   "outputs": [],
   "source": []
  }
 ]
}